{
 "cells": [
  {
   "cell_type": "code",
   "execution_count": 1,
   "metadata": {},
   "outputs": [],
   "source": [
    "import os, re, time, sys\n",
    "import pandas as pd"
   ]
  },
  {
   "cell_type": "code",
   "execution_count": 33,
   "metadata": {},
   "outputs": [],
   "source": [
    "def text2int(textnum, numwords={}):\n",
    "    if not numwords:\n",
    "      units = [\n",
    "        \"zero\", \"one\", \"two\", \"three\", \"four\", \"five\", \"six\", \"seven\", \"eight\",\n",
    "        \"nine\", \"ten\", \"eleven\", \"twelve\", \"thirteen\", \"fourteen\", \"fifteen\",\n",
    "        \"sixteen\", \"seventeen\", \"eighteen\", \"nineteen\",\n",
    "      ]\n",
    "\n",
    "      tens = [\"\", \"\", \"twenty\", \"thirty\", \"forty\", \"fifty\", \"sixty\", \"seventy\", \"eighty\", \"ninety\"]\n",
    "\n",
    "      scales = [\"hundred\", \"thousand\", \"million\", \"billion\", \"trillion\"]\n",
    "\n",
    "      numwords[\"and\"] = (1, 0)\n",
    "      for idx, word in enumerate(units):    numwords[word] = (1, idx)\n",
    "      for idx, word in enumerate(tens):     numwords[word] = (1, idx * 10)\n",
    "      for idx, word in enumerate(scales):   numwords[word] = (10 ** (idx * 3 or 2), 0)\n",
    "\n",
    "    current = result = 0\n",
    "    for word in textnum.split():\n",
    "        if word not in numwords:\n",
    "            break\n",
    "#           raise Exception(\"Illegal word: \" + word)\n",
    "            \n",
    "\n",
    "        scale, increment = numwords[word]\n",
    "        current = current * scale + increment\n",
    "        if scale > 100:\n",
    "            result += current\n",
    "            current = 0\n",
    "\n",
    "    return result + current"
   ]
  },
  {
   "cell_type": "code",
   "execution_count": 41,
   "metadata": {},
   "outputs": [],
   "source": [
    "def locFromText(text):\n",
    "    t = re.search(r'Near (.*?),', text)\n",
    "    if t:\n",
    "        return t.group(1)\n",
    "    else:\n",
    "        None"
   ]
  },
  {
   "cell_type": "code",
   "execution_count": 4,
   "metadata": {},
   "outputs": [
    {
     "name": "stderr",
     "output_type": "stream",
     "text": [
      "/Users/andrewlb/opt/anaconda3/lib/python3.7/site-packages/ipykernel_launcher.py:1: ParserWarning: Falling back to the 'python' engine because the 'c' engine does not support regex separators (separators > 1 char and different from '\\s+' are interpreted as regex); you can avoid this warning by specifying engine='python'.\n",
      "  \"\"\"Entry point for launching an IPython kernel.\n"
     ]
    },
    {
     "data": {
      "text/plain": [
       "(2733, 1)"
      ]
     },
     "execution_count": 4,
     "metadata": {},
     "output_type": "execute_result"
    }
   ],
   "source": [
    "df = pd.read_csv('allreports.txt', sep=\"/n\", header=None )\n",
    "df.rename(columns={0: \"text\"},inplace=True)\n",
    "df.shape"
   ]
  },
  {
   "cell_type": "code",
   "execution_count": 5,
   "metadata": {},
   "outputs": [
    {
     "data": {
      "text/plain": [
       "array(['N', 'q'], dtype=object)"
      ]
     },
     "execution_count": 5,
     "metadata": {},
     "output_type": "execute_result"
    }
   ],
   "source": [
    "# Worried about dead values?\n",
    "# df[df.text.map(len) > 10]\n",
    "\n",
    "df.apply(lambda x : x[\"text\"][x[\"text\"].find(\"Near\")],axis=1).unique()"
   ]
  },
  {
   "cell_type": "code",
   "execution_count": 26,
   "metadata": {},
   "outputs": [
    {
     "data": {
      "text/plain": [
       "text        Near Al Hasakah, three airstrikes struck an ...\n",
       "strikes    three airstrikes struck an ISIL large tactical...\n",
       "Name: 29, dtype: object"
      ]
     },
     "execution_count": 26,
     "metadata": {},
     "output_type": "execute_result"
    }
   ],
   "source": [
    "df.loc[29]"
   ]
  },
  {
   "cell_type": "code",
   "execution_count": 34,
   "metadata": {},
   "outputs": [
    {
     "data": {
      "text/plain": [
       "<bound method NDFrame.head of 0        1\n",
       "1        2\n",
       "2       13\n",
       "3        1\n",
       "4        1\n",
       "        ..\n",
       "2728     5\n",
       "2729     3\n",
       "2730     1\n",
       "2731     1\n",
       "2732     1\n",
       "Name: strikes, Length: 2733, dtype: object>"
      ]
     },
     "execution_count": 34,
     "metadata": {},
     "output_type": "execute_result"
    }
   ],
   "source": [
    "# Get Number of Strikes\n",
    "df[\"strikes\"] = df.apply(lambda x: x[\"text\"].split(' strike',1)[0].split(', ')[-1],axis=1)\n",
    "df[\"strikes\"] = df.apply(lambda x: x.strikes if x.strikes.isnumeric() else text2int(x.strikes), axis=1)\n",
    "df[\"strikes\"].head"
   ]
  },
  {
   "cell_type": "code",
   "execution_count": 42,
   "metadata": {},
   "outputs": [
    {
     "data": {
      "text/plain": [
       "<bound method NDFrame.head of                                                    text strikes          loc\n",
       "0      Near Al Shadaddi, one strike engaged an ISIS...       1  Al Shadaddi\n",
       "1      Near Ar Raqqah, two strikes destroyed an ISI...       2    Ar Raqqah\n",
       "2      Near Tabqah, 13 strikes engaged nine ISIS ta...      13       Tabqah\n",
       "3      Near Al Qaim, one strike destroyed two anti-...       1      Al Qaim\n",
       "4      Near Haditha, one strike engaged an ISIS tac...       1      Haditha\n",
       "...                                                 ...     ...          ...\n",
       "2728  • Near Bayji, five strikes engaged two ISIS ta...       5        Bayji\n",
       "2729  • Near Huwijah, three strikes engaged two ISIS...       3      Huwijah\n",
       "2730  • Near Rawah, one strike destroyed an ISIS VBI...       1        Rawah\n",
       "2731  • Near Tuz, one strike engaged an ISIS tactica...       1          Tuz\n",
       "2732  • Near Huwijah, one strike engaged an ISIS tac...       1      Huwijah\n",
       "\n",
       "[2733 rows x 3 columns]>"
      ]
     },
     "execution_count": 42,
     "metadata": {},
     "output_type": "execute_result"
    }
   ],
   "source": [
    "df[\"loc\"] = df.apply(lambda x: locFromText(x.text), axis=1)\n",
    "df.head"
   ]
  },
  {
   "cell_type": "code",
   "execution_count": 47,
   "metadata": {},
   "outputs": [
    {
     "data": {
      "text/plain": [
       "array(['Al Shadaddi', 'Ar Raqqah', 'Tabqah', 'Al Qaim', 'Haditha',\n",
       "       'Mosul', 'Tal Afar', 'Dayr Az Zawr', 'Raqqah', 'Huwijah', 'Rawah',\n",
       "       'Abu Kamal', 'Fallujah', 'Hawijah', 'Al Hasakah', 'Kobani',\n",
       "       'Bayji', 'Hit in Al Anbar Province', 'Sinjar', 'Mar’a', 'Palmyra',\n",
       "       'Sultan Abdallah', 'Tal Abyad', 'Baghdadi', 'Al Huwayjah',\n",
       "       'Makhmur', 'Ramadi', 'Aleppo', 'Al Asad', 'Kirkuk', 'Manbij',\n",
       "       'Hit', 'Kisik', 'Qayyarah', 'Al Baghdadi', 'Ayn Isa', 'Habbaniyah',\n",
       "       'Albu Hayat', 'At Tanf', 'Rutbah', 'Tuz', 'Hawayjah', 'Bashir',\n",
       "       'Al Hawl', 'Al Hawijah', 'Tikrit', 'Ar Rutbah', 'Samarra', 'Idlib',\n",
       "       'Huwayjah', 'Mahkmur', 'Washiyah', 'Habbaniya', 'Taji', 'Hajin',\n",
       "       'Sulayman Bek', 'Tamakh', 'Erbil', 'al-Asad', 'al-Kisik',\n",
       "       'Ash Shaddadi', 'Al Huwajah', 'Anbar Desert and Wadi-Ashai',\n",
       "       'Makmur Mountains', 'Makmur', 'Lake Hamrin', 'Al Huwayja',\n",
       "       'Hasakah', 'Day az Zawr', None,\n",
       "       'Dayr Az Zawr; six strikes destroyed five ISIS well heads',\n",
       "       'Al Shaddadi', 'the Hamrin Mountains', 'Dayr Ar Zawr',\n",
       "       'Dayz Az Zawr', 'Tallafar', 'Al Bashir', 'Dayr az Zawr',\n",
       "       'Hawijah Pocket', 'Baghdad', 'Waleed'], dtype=object)"
      ]
     },
     "execution_count": 47,
     "metadata": {},
     "output_type": "execute_result"
    }
   ],
   "source": [
    "df[\"loc\"].unique()"
   ]
  },
  {
   "cell_type": "code",
   "execution_count": null,
   "metadata": {},
   "outputs": [],
   "source": []
  }
 ],
 "metadata": {
  "kernelspec": {
   "display_name": "Python 3",
   "language": "python",
   "name": "python3"
  },
  "language_info": {
   "codemirror_mode": {
    "name": "ipython",
    "version": 3
   },
   "file_extension": ".py",
   "mimetype": "text/x-python",
   "name": "python",
   "nbconvert_exporter": "python",
   "pygments_lexer": "ipython3",
   "version": "3.7.4"
  }
 },
 "nbformat": 4,
 "nbformat_minor": 2
}
